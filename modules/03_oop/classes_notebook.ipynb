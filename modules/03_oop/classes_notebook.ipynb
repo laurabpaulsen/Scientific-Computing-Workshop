{
 "cells": [
  {
   "cell_type": "code",
   "execution_count": 89,
   "metadata": {},
   "outputs": [],
   "source": [
    "class Person:\n",
    "    species = \"Homo sapiens\"\n",
    "    def __init__(self, name, age):\n",
    "        self.name = name\n",
    "        self.age = age\n",
    "\n",
    "    def welcome(self):\n",
    "        print(f\"Hello, my name is {self.name}!\")\n",
    "\n",
    "    def describe(self):\n",
    "        print(f\"I am a {self.age} year old member of the species {self.species}\")"
   ]
  },
  {
   "cell_type": "code",
   "execution_count": 164,
   "metadata": {},
   "outputs": [
    {
     "name": "stdout",
     "output_type": "stream",
     "text": [
      "Hello, my name is laura!\n",
      "I am a 24 year old member of the species Homo sapiens\n"
     ]
    }
   ],
   "source": [
    "laura = Person(\"laura\", 24)  # calls the __init__ function\n",
    "laura.welcome() \n",
    "laura.describe()\n",
    "\n",
    "kenneth = Person(\"kenneth\", 28)\n",
    "\n",
    "sille = Person(\"sille\", 24)"
   ]
  },
  {
   "cell_type": "code",
   "execution_count": 157,
   "metadata": {},
   "outputs": [],
   "source": [
    "class Table:\n",
    "    def __init__(self, names, ages):\n",
    "        self.names = names\n",
    "        self.ages = ages\n",
    "\n",
    "    def mean_age(self):\n",
    "        return sum(self.ages) / len(self.ages)\n",
    "\n",
    "    def get_age_of(self, name):\n",
    "        index = self.names.index(name)\n",
    "\n",
    "        return(self.ages[index])\n",
    "\n",
    "    def print_table(self):\n",
    "        max_len_names = max([len(name) for name in self.names])\n",
    "        max_len_ages = max([len(str(age)) for age in self.ages])\n",
    "\n",
    "        if max_len_ages < 3:\n",
    "            max_len_ages = 3\n",
    "        \n",
    "        print(f'| {\"Name\": <{max_len_names}} | {\"Age\": <{max_len_ages}} |')\n",
    "        print(\"| \" + \"-\"*max_len_names +\" | \"+ \"-\"*max_len_ages + \" |\")\n",
    "\n",
    "        for name, age in zip(self.names, self.ages):\n",
    "            print(f'| {name: <{max_len_names}} | {age: <{max_len_ages}} |')\n"
   ]
  },
  {
   "cell_type": "code",
   "execution_count": 158,
   "metadata": {},
   "outputs": [
    {
     "name": "stdout",
     "output_type": "stream",
     "text": [
      "| Name    | Age |\n",
      "| ------- | --- |\n",
      "| kenneth | 28  |\n",
      "| anders  | 32  |\n",
      "| scott   | 5   |\n"
     ]
    }
   ],
   "source": [
    "table_obj = Table(names = [\"kenneth\", \"anders\", \"scott\"], ages = [28, 32, 5]) \n",
    "table_obj.print_table()"
   ]
  },
  {
   "cell_type": "code",
   "execution_count": 112,
   "metadata": {},
   "outputs": [
    {
     "data": {
      "text/plain": [
       "21.666666666666668"
      ]
     },
     "execution_count": 112,
     "metadata": {},
     "output_type": "execute_result"
    }
   ],
   "source": [
    "table_obj.mean_age()\n"
   ]
  },
  {
   "cell_type": "code",
   "execution_count": 113,
   "metadata": {},
   "outputs": [
    {
     "data": {
      "text/plain": [
       "32"
      ]
     },
     "execution_count": 113,
     "metadata": {},
     "output_type": "execute_result"
    }
   ],
   "source": [
    "table_obj.get_age_of(\"anders\")"
   ]
  },
  {
   "cell_type": "code",
   "execution_count": 169,
   "metadata": {},
   "outputs": [],
   "source": [
    "class Party:\n",
    "    def __init__(self, participants):\n",
    "        self.participants = participants\n",
    "    \n",
    "    def talk(self, talkers):\n",
    "        talking_party = []\n",
    "\n",
    "        for participant in self.participants:\n",
    "            if participant.name in talkers:\n",
    "                talking_party.append(participant)\n",
    "        \n",
    "        for talker in talking_party:\n",
    "            talker.welcome()\n",
    "        \n",
    "        for talker in talking_party:\n",
    "            talker.describe()        "
   ]
  },
  {
   "cell_type": "code",
   "execution_count": 173,
   "metadata": {},
   "outputs": [
    {
     "name": "stdout",
     "output_type": "stream",
     "text": [
      "Hello, my name is kenneth!\n",
      "Hello, my name is sille!\n",
      "I am a 28 year old member of the species Homo sapiens\n",
      "I am a 24 year old member of the species Homo sapiens\n"
     ]
    }
   ],
   "source": [
    "party_obj = Party([kenneth, laura, sille])\n",
    "party_obj.talk([\"sille\", \"kenneth\"])"
   ]
  }
 ],
 "metadata": {
  "kernelspec": {
   "display_name": "Python 3",
   "language": "python",
   "name": "python3"
  },
  "language_info": {
   "codemirror_mode": {
    "name": "ipython",
    "version": 3
   },
   "file_extension": ".py",
   "mimetype": "text/x-python",
   "name": "python",
   "nbconvert_exporter": "python",
   "pygments_lexer": "ipython3",
   "version": "3.10.7"
  },
  "orig_nbformat": 4
 },
 "nbformat": 4,
 "nbformat_minor": 2
}
