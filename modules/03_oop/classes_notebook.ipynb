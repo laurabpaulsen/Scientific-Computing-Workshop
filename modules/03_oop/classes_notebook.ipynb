{
 "cells": [
  {
   "cell_type": "code",
   "execution_count": 85,
   "metadata": {},
   "outputs": [],
   "source": [
    "class Person:\n",
    "    species = \"Homo sapiens\"\n",
    "    def __init__(self, name, age, friends = []):\n",
    "        self.name = name\n",
    "        self.age = age\n",
    "        self.friends = friends\n",
    "\n",
    "    def welcome(self):\n",
    "        print(f\"Hello, my name is {self.name}!\")\n",
    "\n",
    "    def describe(self):\n",
    "        print(f\"I am a {self.age} year old member of the species {self.species}\")"
   ]
  },
  {
   "cell_type": "code",
   "execution_count": 86,
   "metadata": {},
   "outputs": [
    {
     "name": "stdout",
     "output_type": "stream",
     "text": [
      "Hello, my name is laura!\n",
      "I am a 24 year old member of the species Homo sapiens\n"
     ]
    }
   ],
   "source": [
    "laura = Person(\"laura\", 24)  # calls the __init__ function\n",
    "laura.welcome() \n",
    "laura.describe()\n",
    "\n",
    "kenneth = Person(\"kenneth\", 28)\n",
    "sille = Person(\"sille\", 24)"
   ]
  },
  {
   "cell_type": "code",
   "execution_count": 87,
   "metadata": {},
   "outputs": [],
   "source": [
    "class Table:\n",
    "    def __init__(self, names, ages):\n",
    "        self.names = names\n",
    "        self.ages = ages\n",
    "\n",
    "    def mean_age(self):\n",
    "        return sum(self.ages) / len(self.ages)\n",
    "\n",
    "    def get_age_of(self, name):\n",
    "        index = self.names.index(name)\n",
    "\n",
    "        return self.ages[index]\n",
    "\n",
    "    def __add__(self, table2):\n",
    "        return Table(self.names + table2.names, self.ages + table2.ages)\n",
    "\n",
    "    def print_table(self):\n",
    "        max_len_names = max([len(name) for name in self.names])\n",
    "        max_len_ages = max([len(str(age)) for age in self.ages])\n",
    "\n",
    "        if max_len_ages < 3:\n",
    "            max_len_ages = 3\n",
    "        \n",
    "        print(f'| {\"Name\": <{max_len_names}} | {\"Age\": <{max_len_ages}} |')\n",
    "        print(\"| \" + \"-\"*max_len_names +\" | \"+ \"-\"*max_len_ages + \" |\")\n",
    "\n",
    "        for name, age in zip(self.names, self.ages):\n",
    "            print(f'| {name: <{max_len_names}} | {age: <{max_len_ages}} |')\n",
    "\n"
   ]
  },
  {
   "cell_type": "code",
   "execution_count": 88,
   "metadata": {},
   "outputs": [
    {
     "name": "stdout",
     "output_type": "stream",
     "text": [
      "| Name    | Age |\n",
      "| ------- | --- |\n",
      "| kenneth | 28  |\n",
      "| anders  | 32  |\n",
      "| scott   | 5   |\n",
      "None\n",
      "21.666666666666668\n",
      "32\n"
     ]
    }
   ],
   "source": [
    "table_obj = Table(names = [\"kenneth\", \"anders\", \"scott\"], ages = [28, 32, 5]) \n",
    "print(table_obj.print_table())\n",
    "print(table_obj.mean_age())\n",
    "print(table_obj.get_age_of(\"anders\"))"
   ]
  },
  {
   "cell_type": "code",
   "execution_count": 89,
   "metadata": {},
   "outputs": [
    {
     "name": "stdout",
     "output_type": "stream",
     "text": [
      "| Name    | Age |\n",
      "| ------- | --- |\n",
      "| kenneth | 28  |\n",
      "| anders  | 32  |\n",
      "| scott   | 5   |\n",
      "| john    | 10  |\n",
      "| jane    | 20  |\n",
      "| joe     | 30  |\n"
     ]
    }
   ],
   "source": [
    "table_obj1 = Table(names = [\"kenneth\", \"anders\", \"scott\"], ages = [28, 32, 5])\n",
    "table_obj2 = Table(names = [\"john\", \"jane\", \"joe\"], ages = [10, 20, 30])\n",
    "table_combined = table_obj1 + table_obj2\n",
    "\n",
    "table_combined.print_table()"
   ]
  },
  {
   "cell_type": "code",
   "execution_count": 90,
   "metadata": {},
   "outputs": [],
   "source": [
    "class Group:\n",
    "    def __init__(self, participants):\n",
    "        self.participants = participants\n",
    "    \n",
    "    def talk(self, talkers):\n",
    "        talking_party = []\n",
    "\n",
    "        for participant in self.participants:\n",
    "            if participant.name in talkers:\n",
    "                talking_party.append(participant)\n",
    "        \n",
    "        for talker in talking_party:\n",
    "            talker.welcome()\n",
    "        \n",
    "        for talker in talking_party:\n",
    "            talker.describe()        "
   ]
  },
  {
   "cell_type": "code",
   "execution_count": 91,
   "metadata": {},
   "outputs": [
    {
     "name": "stdout",
     "output_type": "stream",
     "text": [
      "Hello, my name is kenneth!\n",
      "Hello, my name is laura!\n",
      "Hello, my name is sille!\n",
      "I am a 28 year old member of the species Homo sapiens\n",
      "I am a 24 year old member of the species Homo sapiens\n",
      "I am a 24 year old member of the species Homo sapiens\n"
     ]
    }
   ],
   "source": [
    "group_obj = Group([kenneth, laura, sille])\n",
    "group_obj.talk([\"sille\", \"kenneth\", \"laura\"])"
   ]
  },
  {
   "cell_type": "code",
   "execution_count": 94,
   "metadata": {},
   "outputs": [],
   "source": [
    "class Party(Group):\n",
    "    def __init__(self, participants:list):\n",
    "        super().__init__(participants)\n",
    "\n",
    "    def become_friends(self, persons:list):\n",
    "        for person in persons:\n",
    "            person.friends = set(person.friends + tmp_persons)\n",
    "        \n",
    "    def talk(self, talkers):\n",
    "        talking_party = []\n",
    "\n",
    "        for participant in self.participants:\n",
    "            if participant.name in talkers:\n",
    "                talking_party.append(participant)\n",
    "        \n",
    "        for talker in talking_party:\n",
    "            talker.welcome()\n",
    "        \n",
    "        for talker in talking_party:\n",
    "            talker.describe()    \n",
    "\n",
    "        self.become_friends(talking_party)  \n",
    "        "
   ]
  },
  {
   "cell_type": "code",
   "execution_count": 95,
   "metadata": {},
   "outputs": [
    {
     "name": "stdout",
     "output_type": "stream",
     "text": [
      "Hello, my name is kenneth!\n",
      "Hello, my name is laura!\n",
      "I am a 28 year old member of the species Homo sapiens\n",
      "I am a 24 year old member of the species Homo sapiens\n",
      "None\n"
     ]
    },
    {
     "ename": "TypeError",
     "evalue": "can only concatenate list (not \"NoneType\") to list",
     "output_type": "error",
     "traceback": [
      "\u001b[0;31m---------------------------------------------------------------------------\u001b[0m",
      "\u001b[0;31mTypeError\u001b[0m                                 Traceback (most recent call last)",
      "Cell \u001b[0;32mIn[95], line 3\u001b[0m\n\u001b[1;32m      1\u001b[0m party_obj \u001b[39m=\u001b[39m Party([kenneth, laura, sille])\n\u001b[0;32m----> 3\u001b[0m party_obj\u001b[39m.\u001b[39;49mtalk([\u001b[39m\"\u001b[39;49m\u001b[39mkenneth\u001b[39;49m\u001b[39m\"\u001b[39;49m, \u001b[39m\"\u001b[39;49m\u001b[39mlaura\u001b[39;49m\u001b[39m\"\u001b[39;49m])\n",
      "Cell \u001b[0;32mIn[94], line 24\u001b[0m, in \u001b[0;36mParty.talk\u001b[0;34m(self, talkers)\u001b[0m\n\u001b[1;32m     21\u001b[0m \u001b[39mfor\u001b[39;00m talker \u001b[39min\u001b[39;00m talking_party:\n\u001b[1;32m     22\u001b[0m     talker\u001b[39m.\u001b[39mdescribe()    \n\u001b[0;32m---> 24\u001b[0m \u001b[39mself\u001b[39;49m\u001b[39m.\u001b[39;49mbecome_friends(talking_party)\n",
      "Cell \u001b[0;32mIn[94], line 9\u001b[0m, in \u001b[0;36mParty.become_friends\u001b[0;34m(self, persons)\u001b[0m\n\u001b[1;32m      7\u001b[0m tmp_persons \u001b[39m=\u001b[39m persons\u001b[39m.\u001b[39mremove(person)\n\u001b[1;32m      8\u001b[0m \u001b[39mprint\u001b[39m(tmp_persons)\n\u001b[0;32m----> 9\u001b[0m person\u001b[39m.\u001b[39mfriends \u001b[39m=\u001b[39m \u001b[39mset\u001b[39m(person\u001b[39m.\u001b[39;49mfriends \u001b[39m+\u001b[39;49m tmp_persons)\n",
      "\u001b[0;31mTypeError\u001b[0m: can only concatenate list (not \"NoneType\") to list"
     ]
    }
   ],
   "source": [
    "party_obj = Party([kenneth, laura, sille])\n",
    "\n",
    "party_obj.talk([\"kenneth\", \"laura\"])"
   ]
  },
  {
   "cell_type": "code",
   "execution_count": null,
   "metadata": {},
   "outputs": [
    {
     "name": "stdout",
     "output_type": "stream",
     "text": [
      "laura\n",
      "kenneth\n"
     ]
    }
   ],
   "source": [
    "for friend in kenneth.friends:\n",
    "    print(friend.name)"
   ]
  }
 ],
 "metadata": {
  "kernelspec": {
   "display_name": "Python 3",
   "language": "python",
   "name": "python3"
  },
  "language_info": {
   "codemirror_mode": {
    "name": "ipython",
    "version": 3
   },
   "file_extension": ".py",
   "mimetype": "text/x-python",
   "name": "python",
   "nbconvert_exporter": "python",
   "pygments_lexer": "ipython3",
   "version": "3.10.7"
  },
  "orig_nbformat": 4
 },
 "nbformat": 4,
 "nbformat_minor": 2
}
