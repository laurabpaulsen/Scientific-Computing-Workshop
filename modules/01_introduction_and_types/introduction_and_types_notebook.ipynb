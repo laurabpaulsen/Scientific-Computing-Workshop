{
 "cells": [
  {
   "cell_type": "code",
   "execution_count": 2,
   "metadata": {},
   "outputs": [
    {
     "name": "stdout",
     "output_type": "stream",
     "text": [
      "I\n"
     ]
    }
   ],
   "source": [
    "# Define a string variable\n",
    "text_snippet = \"It was the best of times, it was the worst of times\"\n",
    "\n",
    "# Return first character\n",
    "print(text_snippet[0])"
   ]
  },
  {
   "attachments": {},
   "cell_type": "markdown",
   "metadata": {},
   "source": [
    "Find fifth word in a sentence. (Str->List, index list)"
   ]
  },
  {
   "cell_type": "code",
   "execution_count": 5,
   "metadata": {},
   "outputs": [
    {
     "name": "stdout",
     "output_type": "stream",
     "text": [
      "laura\n"
     ]
    }
   ],
   "source": [
    "sentence = \"hi my name is laura i like python\"\n",
    "\n",
    "list_of_words = sentence.split()\n",
    "\n",
    "word = list_of_words[4]\n",
    "\n",
    "print(word)"
   ]
  },
  {
   "attachments": {},
   "cell_type": "markdown",
   "metadata": {},
   "source": [
    "Create a tuple comprising the first, fifth and last word of the text_snippet"
   ]
  },
  {
   "cell_type": "code",
   "execution_count": 14,
   "metadata": {},
   "outputs": [
    {
     "name": "stdout",
     "output_type": "stream",
     "text": [
      "('It', 'of', 'times')\n"
     ]
    }
   ],
   "source": [
    "text_snippet = \"It was the best of times, it was the worst of times\"\n",
    "\n",
    "list_of_words = text_snippet.split()\n",
    "\n",
    "tuple_of_words = (list_of_words[0], list_of_words[4], list_of_words[-1])\n",
    "\n",
    "print(tuple_of_words)"
   ]
  },
  {
   "attachments": {},
   "cell_type": "markdown",
   "metadata": {},
   "source": [
    "Create a dict with the following key-value pairs - mary=(42,1.65), john=(50,1.8), adam=(32,1.83) Print Adam's height"
   ]
  },
  {
   "cell_type": "code",
   "execution_count": 13,
   "metadata": {},
   "outputs": [
    {
     "name": "stdout",
     "output_type": "stream",
     "text": [
      "1.83\n"
     ]
    }
   ],
   "source": [
    "users = {\"mary\": (42, 1.65),\n",
    "        \"john\": (50, 1.8),\n",
    "        \"adam\": (32, 1.83)}\n",
    "\n",
    "print(users[\"adam\"][1])"
   ]
  },
  {
   "cell_type": "code",
   "execution_count": 17,
   "metadata": {},
   "outputs": [
    {
     "name": "stdout",
     "output_type": "stream",
     "text": [
      "[0, 2, 4, 6, 8]\n"
     ]
    }
   ],
   "source": [
    "print(list(range(0, 10, 2))"
   ]
  },
  {
   "cell_type": "code",
   "execution_count": null,
   "metadata": {},
   "outputs": [],
   "source": []
  }
 ],
 "metadata": {
  "kernelspec": {
   "display_name": "Python 3",
   "language": "python",
   "name": "python3"
  },
  "language_info": {
   "codemirror_mode": {
    "name": "ipython",
    "version": 3
   },
   "file_extension": ".py",
   "mimetype": "text/x-python",
   "name": "python",
   "nbconvert_exporter": "python",
   "pygments_lexer": "ipython3",
   "version": "3.10.7"
  },
  "orig_nbformat": 4
 },
 "nbformat": 4,
 "nbformat_minor": 2
}
