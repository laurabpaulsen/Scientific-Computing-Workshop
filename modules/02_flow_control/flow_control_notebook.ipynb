{
 "cells": [
  {
   "cell_type": "code",
   "execution_count": 5,
   "metadata": {},
   "outputs": [
    {
     "name": "stdout",
     "output_type": "stream",
     "text": [
      "['orange', 'green', 'blue']\n"
     ]
    }
   ],
   "source": [
    "colours = [\"red\", \"green\", \"blue\"]\n",
    "\n",
    "for idx, colour in enumerate(colours):\n",
    "    if colour == \"red\":\n",
    "        colours[idx] = \"orange\"\n",
    "\n",
    "print(colours)"
   ]
  },
  {
   "cell_type": "code",
   "execution_count": 9,
   "metadata": {},
   "outputs": [],
   "source": [
    "user_data = [\n",
    "    [\"Ross\", 31, 1.8],\n",
    "    [\"Rachel\", 29, 1.6],\n",
    "    [\"Joey\", 32, 1.9],\n",
    "    [\"Phoebe\", 30, 1.7],\n",
    "    [\"Chandler\", 33, 1.75],\n",
    "    [\"Monica\", 28, 1.65]\n",
    "]"
   ]
  },
  {
   "cell_type": "code",
   "execution_count": 29,
   "metadata": {},
   "outputs": [],
   "source": [
    "def user_data_2_dict(data:list):\n",
    "    \"\"\"\n",
    "    Turns user_data into a dictionary\n",
    "\n",
    "    Args:\n",
    "        user_data (list): A list of users, where each item in the list is a list containing the name, age and height of the user\n",
    "\n",
    "    Returns:\n",
    "        dict: A dictionary with the name of the user as the key, and a tuple containing the age and height as the value\n",
    "    \"\"\"\n",
    "    user_dict = {}\n",
    "\n",
    "    for user in data:\n",
    "        name, age, height = user[0], user[1], user[2]\n",
    "        user_dict[name] = (age, height)\n",
    "    \n",
    "    return user_dict"
   ]
  },
  {
   "cell_type": "code",
   "execution_count": 30,
   "metadata": {},
   "outputs": [
    {
     "data": {
      "text/plain": [
       "{'Ross': (31, 1.8),\n",
       " 'Rachel': (29, 1.6),\n",
       " 'Joey': (32, 1.9),\n",
       " 'Phoebe': (30, 1.7),\n",
       " 'Chandler': (33, 1.75),\n",
       " 'Monica': (28, 1.65)}"
      ]
     },
     "execution_count": 30,
     "metadata": {},
     "output_type": "execute_result"
    }
   ],
   "source": [
    "user_data_2_dict(user_data)"
   ]
  },
  {
   "cell_type": "code",
   "execution_count": 72,
   "metadata": {},
   "outputs": [],
   "source": [
    "def user_data_2_dict_raise(data:list):\n",
    "    \"\"\"\n",
    "    Turns user_data into a dictionary\n",
    "\n",
    "    Args:\n",
    "        user_data (list): A list of users, where each item in the list is a list containing the name, age and height of the user\n",
    "\n",
    "    Returns:\n",
    "        dict: A dictionary with the name of the user as the key, and a tuple containing the age and height as the value\n",
    "    \"\"\"\n",
    "    user_dict = {}\n",
    "    delete_count = 0\n",
    "\n",
    "    for user in data:\n",
    "        try:\n",
    "            if type(user[0]) == str:\n",
    "                name, age, height = user[0], user[1], user[2]\n",
    "                user_dict[name] = (age, height)\n",
    "            else:\n",
    "                raise ValueError(\"The first entry is not a string or not enough values were provided\")\n",
    "        except (ValueError, IndexError):\n",
    "            delete_count += 1\n",
    "            continue\n",
    "\n",
    "    print(f\"removed {delete_count} user(s) as the first entry of user was not a string or not enough values were provided\")\n",
    "\n",
    "    return user_dict"
   ]
  },
  {
   "cell_type": "code",
   "execution_count": 73,
   "metadata": {},
   "outputs": [
    {
     "name": "stdout",
     "output_type": "stream",
     "text": [
      "removed 2 user(s) as the first entry of user was not a string or not enough values were provided\n"
     ]
    },
    {
     "data": {
      "text/plain": [
       "{'Ross': (31, 1.8),\n",
       " 'Rachel': (29, 1.6),\n",
       " 'Joey': (32, 1.9),\n",
       " 'Phoebe': (30, 1.7),\n",
       " 'Chandler': (33, 1.75),\n",
       " 'Monica': (28, 1.65),\n",
       " 'Janice': (33, 1.75),\n",
       " 'Richard': (28, 1.65)}"
      ]
     },
     "execution_count": 73,
     "metadata": {},
     "output_type": "execute_result"
    }
   ],
   "source": [
    "bad_user_data = [\n",
    "    [\"Ross\", 31, 1.8],\n",
    "    [\"Rachel\", 29, 1.6],\n",
    "    [\"Joey\", 32, 1.9],\n",
    "    [\"Phoebe\", 30, 1.7],\n",
    "    [\"Chandler\", 33, 1.75],\n",
    "    [\"Monica\", 28, 1.65],\n",
    "    [1, 2, 3],\n",
    "    [30, 1.7],\n",
    "    [\"Janice\", 33, 1.75],\n",
    "    [\"Richard\", 28, 1.65]\n",
    "]\n",
    "user_data_2_dict_raise(bad_user_data)"
   ]
  },
  {
   "cell_type": "code",
   "execution_count": 74,
   "metadata": {},
   "outputs": [
    {
     "name": "stdout",
     "output_type": "stream",
     "text": [
      "removed 1 user(s) as the first entry of user was not a string or not enough values were provided\n"
     ]
    },
    {
     "data": {
      "text/plain": [
       "{'Jim': (32, 1.65), 'Jimmy': (102, 1.55)}"
      ]
     },
     "execution_count": 74,
     "metadata": {},
     "output_type": "execute_result"
    }
   ],
   "source": [
    "bad_user_data = [\n",
    "    [\"Jim\",  32, 1.65],\n",
    "    [\"Jimmy\",  102, 1.55],\n",
    "    [202],\n",
    "]\n",
    "\n",
    "user_data_2_dict_raise(bad_user_data)"
   ]
  },
  {
   "cell_type": "code",
   "execution_count": 75,
   "metadata": {},
   "outputs": [],
   "source": [
    "import os"
   ]
  },
  {
   "cell_type": "code",
   "execution_count": 88,
   "metadata": {},
   "outputs": [],
   "source": [
    "def directory_dict(path):\n",
    "\n",
    "    dictionary = {}\n",
    "\n",
    "    folder = os.listdir(path)\n",
    "\n",
    "    for idx, file in enumerate(folder):\n",
    "        if file.endswith(\".csv\"):\n",
    "            dictionary[idx] = file\n",
    "    \n",
    "    return dictionary\n"
   ]
  },
  {
   "cell_type": "code",
   "execution_count": 89,
   "metadata": {},
   "outputs": [
    {
     "data": {
      "text/plain": [
       "{0: 'height-weight.csv',\n",
       " 1: 'inflammation-01.csv',\n",
       " 2: 'inflammation-04.csv',\n",
       " 3: 'inflammation-03.csv',\n",
       " 4: 'inflammation-10.csv',\n",
       " 5: 'scottish_hills.csv',\n",
       " 6: 'inflammation-09.csv',\n",
       " 7: 'inflammation-05.csv',\n",
       " 9: 'inflammation-06.csv',\n",
       " 10: 'inflammation-12.csv',\n",
       " 11: 'inflammation-08.csv',\n",
       " 12: 'inflammation-11.csv',\n",
       " 13: 'inflammation-02.csv',\n",
       " 14: 'inflammation-07.csv'}"
      ]
     },
     "execution_count": 89,
     "metadata": {},
     "output_type": "execute_result"
    }
   ],
   "source": [
    "directory_dict(\"data\")"
   ]
  }
 ],
 "metadata": {
  "kernelspec": {
   "display_name": "Python 3",
   "language": "python",
   "name": "python3"
  },
  "language_info": {
   "codemirror_mode": {
    "name": "ipython",
    "version": 3
   },
   "file_extension": ".py",
   "mimetype": "text/x-python",
   "name": "python",
   "nbconvert_exporter": "python",
   "pygments_lexer": "ipython3",
   "version": "3.10.7"
  },
  "orig_nbformat": 4
 },
 "nbformat": 4,
 "nbformat_minor": 2
}
